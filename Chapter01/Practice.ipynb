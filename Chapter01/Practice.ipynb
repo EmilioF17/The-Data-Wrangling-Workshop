{
 "cells": [
  {
   "cell_type": "code",
   "execution_count": 1,
   "id": "d3187a43-f7be-47cc-aad7-933022c898aa",
   "metadata": {},
   "outputs": [],
   "source": [
    "List1 = [1, 3, 43, 34, 53, 23]"
   ]
  },
  {
   "cell_type": "code",
   "execution_count": 9,
   "id": "39e0944d-f18f-4e85-8468-3b506c5bfbf7",
   "metadata": {},
   "outputs": [
    {
     "data": {
      "text/plain": [
       "[1, 3, 43, 34, 53]"
      ]
     },
     "execution_count": 9,
     "metadata": {},
     "output_type": "execute_result"
    }
   ],
   "source": [
    "List1[0:-1]"
   ]
  },
  {
   "cell_type": "code",
   "execution_count": 13,
   "id": "64fb86b5-28bd-4770-94da-375d7848e1f2",
   "metadata": {},
   "outputs": [
    {
     "data": {
      "text/plain": [
       "6"
      ]
     },
     "execution_count": 13,
     "metadata": {},
     "output_type": "execute_result"
    }
   ],
   "source": [
    "len(List1)"
   ]
  },
  {
   "cell_type": "code",
   "execution_count": 21,
   "id": "7055468c-736b-4943-9f5a-4caa4d185d85",
   "metadata": {},
   "outputs": [
    {
     "data": {
      "text/plain": [
       "[1, 3, 43, 34, 53, 23, 23, 78, 87]"
      ]
     },
     "execution_count": 21,
     "metadata": {},
     "output_type": "execute_result"
    }
   ],
   "source": [
    "List1.append(87)\n",
    "List1"
   ]
  },
  {
   "cell_type": "code",
   "execution_count": 23,
   "id": "dda89c56-c120-45f7-ab89-90bd93fd2646",
   "metadata": {},
   "outputs": [],
   "source": [
    "list2 = []"
   ]
  },
  {
   "cell_type": "code",
   "execution_count": 27,
   "id": "8c8ebc3c-b192-4b82-97a5-fe4ba82af770",
   "metadata": {},
   "outputs": [
    {
     "data": {
      "text/plain": [
       "[1, 3, 43, 34, 53, 23, 23, 78, 87]"
      ]
     },
     "execution_count": 27,
     "metadata": {},
     "output_type": "execute_result"
    }
   ],
   "source": [
    "for x in List1:\n",
    "    list2.append(x)\n",
    "list2"
   ]
  },
  {
   "cell_type": "code",
   "execution_count": 31,
   "id": "12d00b65-373b-4aad-a4f8-6b57a7789d71",
   "metadata": {},
   "outputs": [
    {
     "data": {
      "text/plain": [
       "[301, 303, 343, 334, 353, 323, 323, 378, 387]"
      ]
     },
     "execution_count": 31,
     "metadata": {},
     "output_type": "execute_result"
    }
   ],
   "source": [
    "list3 = [300 + x for x in list2]\n",
    "list3"
   ]
  },
  {
   "cell_type": "code",
   "execution_count": 33,
   "id": "ee118ecb-31d6-4672-a3f7-dc6d1d96606d",
   "metadata": {},
   "outputs": [
    {
     "name": "stdout",
     "output_type": "stream",
     "text": [
      "301\n",
      "303\n",
      "343\n",
      "334\n",
      "353\n",
      "323\n",
      "323\n",
      "378\n",
      "387\n"
     ]
    }
   ],
   "source": [
    "i = 0\n",
    "while i < len(list3):\n",
    "    print(list3[i])\n",
    "    i += 1"
   ]
  },
  {
   "cell_type": "code",
   "execution_count": 37,
   "id": "5c3efc9c-8c44-4f63-8f8f-6ec2ae5ef6c7",
   "metadata": {},
   "outputs": [
    {
     "data": {
      "text/plain": [
       "[1, 3, 43, 34, 53, 23, 23, 78, 87, 301, 303, 343, 334, 353, 323, 323, 378, 387]"
      ]
     },
     "execution_count": 37,
     "metadata": {},
     "output_type": "execute_result"
    }
   ],
   "source": [
    "list2 + list3"
   ]
  },
  {
   "cell_type": "code",
   "execution_count": 41,
   "id": "e60d69f0-a744-4078-b2c2-b78b4f9f7e23",
   "metadata": {},
   "outputs": [
    {
     "data": {
      "text/plain": [
       "\u001b[1;31mInit signature:\u001b[0m \u001b[0mlist\u001b[0m\u001b[1;33m(\u001b[0m\u001b[0miterable\u001b[0m\u001b[1;33m=\u001b[0m\u001b[1;33m(\u001b[0m\u001b[1;33m)\u001b[0m\u001b[1;33m,\u001b[0m \u001b[1;33m/\u001b[0m\u001b[1;33m)\u001b[0m\u001b[1;33m\u001b[0m\u001b[1;33m\u001b[0m\u001b[0m\n",
       "\u001b[1;31mDocstring:\u001b[0m     \n",
       "Built-in mutable sequence.\n",
       "\n",
       "If no argument is given, the constructor creates a new empty list.\n",
       "The argument must be an iterable if specified.\n",
       "\u001b[1;31mType:\u001b[0m           type\n",
       "\u001b[1;31mSubclasses:\u001b[0m     _HashedSeq, StackSummary, _Threads, ConvertingList, DeferredConfigList, _ymd, _Accumulator, DeprecatedList, SList, _ImmutableLineList, ..."
      ]
     },
     "metadata": {},
     "output_type": "display_data"
    }
   ],
   "source": [
    "list?"
   ]
  },
  {
   "cell_type": "code",
   "execution_count": 43,
   "id": "b4ca83c5-14c1-405d-af9d-b0c86dfdd531",
   "metadata": {},
   "outputs": [
    {
     "data": {
      "text/plain": [
       "True"
      ]
     },
     "execution_count": 43,
     "metadata": {},
     "output_type": "execute_result"
    }
   ],
   "source": [
    "1 in list2"
   ]
  },
  {
   "cell_type": "code",
   "execution_count": 45,
   "id": "4864d771-b57e-42f9-befe-172f5484026b",
   "metadata": {},
   "outputs": [],
   "source": [
    "import random"
   ]
  },
  {
   "cell_type": "code",
   "execution_count": null,
   "id": "b5a18717-3dfa-4ee9-aee1-d0c22da72695",
   "metadata": {},
   "outputs": [],
   "source": [
    "listr = [random.randint(0, 30) for x in range*0, 100)]"
   ]
  }
 ],
 "metadata": {
  "kernelspec": {
   "display_name": "Python 3 (ipykernel)",
   "language": "python",
   "name": "python3"
  },
  "language_info": {
   "codemirror_mode": {
    "name": "ipython",
    "version": 3
   },
   "file_extension": ".py",
   "mimetype": "text/x-python",
   "name": "python",
   "nbconvert_exporter": "python",
   "pygments_lexer": "ipython3",
   "version": "3.11.7"
  }
 },
 "nbformat": 4,
 "nbformat_minor": 5
}
