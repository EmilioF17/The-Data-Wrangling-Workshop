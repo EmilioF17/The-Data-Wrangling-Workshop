{
 "cells": [
  {
   "cell_type": "code",
   "execution_count": 3,
   "id": "f70c0f1d-2d49-4f19-860e-cc51c82f6d3d",
   "metadata": {},
   "outputs": [],
   "source": [
    "import pandas as pd"
   ]
  },
  {
   "cell_type": "code",
   "execution_count": 5,
   "id": "4c9fd9c4-826f-4bf3-85f4-237871cc0688",
   "metadata": {},
   "outputs": [
    {
     "data": {
      "text/plain": [
       "dict_keys(['Data_Tab_1', 'Data_Tab_2', 'Data_Tab_3'])"
      ]
     },
     "execution_count": 5,
     "metadata": {},
     "output_type": "execute_result"
    }
   ],
   "source": [
    "dict_df = pd.read_excel('Housing_data.xlsx', sheet_name=None)\n",
    "dict_df.keys()"
   ]
  },
  {
   "cell_type": "code",
   "execution_count": 9,
   "id": "2dd4c8ad-8458-4ac6-9468-7381d1689b61",
   "metadata": {},
   "outputs": [
    {
     "data": {
      "text/html": [
       "<div>\n",
       "<style scoped>\n",
       "    .dataframe tbody tr th:only-of-type {\n",
       "        vertical-align: middle;\n",
       "    }\n",
       "\n",
       "    .dataframe tbody tr th {\n",
       "        vertical-align: top;\n",
       "    }\n",
       "\n",
       "    .dataframe thead th {\n",
       "        text-align: right;\n",
       "    }\n",
       "</style>\n",
       "<table border=\"1\" class=\"dataframe\">\n",
       "  <thead>\n",
       "    <tr style=\"text-align: right;\">\n",
       "      <th></th>\n",
       "      <th>Bedroom</th>\n",
       "      <th>Sq. foot</th>\n",
       "      <th>Locality</th>\n",
       "      <th>Price ($)</th>\n",
       "    </tr>\n",
       "  </thead>\n",
       "  <tbody>\n",
       "    <tr>\n",
       "      <th>0</th>\n",
       "      <td>2</td>\n",
       "      <td>1500</td>\n",
       "      <td>Good</td>\n",
       "      <td>300000</td>\n",
       "    </tr>\n",
       "    <tr>\n",
       "      <th>1</th>\n",
       "      <td>3</td>\n",
       "      <td>1300</td>\n",
       "      <td>Fair</td>\n",
       "      <td>240000</td>\n",
       "    </tr>\n",
       "    <tr>\n",
       "      <th>2</th>\n",
       "      <td>3</td>\n",
       "      <td>1900</td>\n",
       "      <td>Very good</td>\n",
       "      <td>450000</td>\n",
       "    </tr>\n",
       "    <tr>\n",
       "      <th>3</th>\n",
       "      <td>3</td>\n",
       "      <td>1850</td>\n",
       "      <td>Bad</td>\n",
       "      <td>280000</td>\n",
       "    </tr>\n",
       "    <tr>\n",
       "      <th>4</th>\n",
       "      <td>2</td>\n",
       "      <td>1640</td>\n",
       "      <td>Good</td>\n",
       "      <td>310000</td>\n",
       "    </tr>\n",
       "  </tbody>\n",
       "</table>\n",
       "</div>"
      ],
      "text/plain": [
       "   Bedroom   Sq. foot    Locality   Price ($)\n",
       "0        2       1500        Good      300000\n",
       "1        3       1300        Fair      240000\n",
       "2        3       1900   Very good      450000\n",
       "3        3       1850         Bad      280000\n",
       "4        2       1640        Good      310000"
      ]
     },
     "execution_count": 9,
     "metadata": {},
     "output_type": "execute_result"
    }
   ],
   "source": [
    "df13 = pd.read_table('Table_EX_1.txt',sep=',')\n",
    "df13"
   ]
  },
  {
   "cell_type": "code",
   "execution_count": 11,
   "id": "e8e5caed-9885-42d0-ba54-896e48dae828",
   "metadata": {},
   "outputs": [
    {
     "data": {
      "text/html": [
       "<div>\n",
       "<style scoped>\n",
       "    .dataframe tbody tr th:only-of-type {\n",
       "        vertical-align: middle;\n",
       "    }\n",
       "\n",
       "    .dataframe tbody tr th {\n",
       "        vertical-align: top;\n",
       "    }\n",
       "\n",
       "    .dataframe thead th {\n",
       "        text-align: right;\n",
       "    }\n",
       "</style>\n",
       "<table border=\"1\" class=\"dataframe\">\n",
       "  <thead>\n",
       "    <tr style=\"text-align: right;\">\n",
       "      <th></th>\n",
       "      <th>Bank Name</th>\n",
       "      <th>City</th>\n",
       "      <th>State</th>\n",
       "      <th>Cert</th>\n",
       "      <th>Aquiring Institution</th>\n",
       "      <th>Closing Date</th>\n",
       "      <th>Fund</th>\n",
       "    </tr>\n",
       "  </thead>\n",
       "  <tbody>\n",
       "    <tr>\n",
       "      <th>0</th>\n",
       "      <td>Republic First Bank dba Republic Bank</td>\n",
       "      <td>Philadelphia</td>\n",
       "      <td>Pennsylvania</td>\n",
       "      <td>27332</td>\n",
       "      <td>Fulton Bank, National Association</td>\n",
       "      <td>April 26, 2024</td>\n",
       "      <td>10546</td>\n",
       "    </tr>\n",
       "    <tr>\n",
       "      <th>1</th>\n",
       "      <td>Citizens Bank</td>\n",
       "      <td>Sac City</td>\n",
       "      <td>Iowa</td>\n",
       "      <td>8758</td>\n",
       "      <td>Iowa Trust &amp; Savings Bank</td>\n",
       "      <td>November 3, 2023</td>\n",
       "      <td>10545</td>\n",
       "    </tr>\n",
       "    <tr>\n",
       "      <th>2</th>\n",
       "      <td>Heartland Tri-State Bank</td>\n",
       "      <td>Elkhart</td>\n",
       "      <td>Kansas</td>\n",
       "      <td>25851</td>\n",
       "      <td>Dream First Bank, N.A.</td>\n",
       "      <td>July 28, 2023</td>\n",
       "      <td>10544</td>\n",
       "    </tr>\n",
       "    <tr>\n",
       "      <th>3</th>\n",
       "      <td>First Republic Bank</td>\n",
       "      <td>San Francisco</td>\n",
       "      <td>California</td>\n",
       "      <td>59017</td>\n",
       "      <td>JPMorgan Chase Bank, N.A.</td>\n",
       "      <td>May 1, 2023</td>\n",
       "      <td>10543</td>\n",
       "    </tr>\n",
       "    <tr>\n",
       "      <th>4</th>\n",
       "      <td>Signature Bank</td>\n",
       "      <td>New York</td>\n",
       "      <td>New York</td>\n",
       "      <td>57053</td>\n",
       "      <td>Flagstar Bank, N.A.</td>\n",
       "      <td>March 12, 2023</td>\n",
       "      <td>10540</td>\n",
       "    </tr>\n",
       "  </tbody>\n",
       "</table>\n",
       "</div>"
      ],
      "text/plain": [
       "                               Bank Name           City         State   Cert  \\\n",
       "0  Republic First Bank dba Republic Bank   Philadelphia  Pennsylvania  27332   \n",
       "1                          Citizens Bank       Sac City          Iowa   8758   \n",
       "2               Heartland Tri-State Bank        Elkhart        Kansas  25851   \n",
       "3                    First Republic Bank  San Francisco    California  59017   \n",
       "4                         Signature Bank       New York      New York  57053   \n",
       "\n",
       "                Aquiring Institution      Closing Date   Fund  \n",
       "0  Fulton Bank, National Association    April 26, 2024  10546  \n",
       "1          Iowa Trust & Savings Bank  November 3, 2023  10545  \n",
       "2             Dream First Bank, N.A.     July 28, 2023  10544  \n",
       "3          JPMorgan Chase Bank, N.A.       May 1, 2023  10543  \n",
       "4                Flagstar Bank, N.A.    March 12, 2023  10540  "
      ]
     },
     "execution_count": 11,
     "metadata": {},
     "output_type": "execute_result"
    }
   ],
   "source": [
    "url = 'http://www.fdic.gov/bank/individual/failed/banklist.html'\n",
    "list_of_df = pd.read_html(url)\n",
    "df14 = list_of_df[0]\n",
    "df14.head()"
   ]
  },
  {
   "cell_type": "code",
   "execution_count": 15,
   "id": "ca0da1d8-5f8a-40b0-b5dc-effb9afa4f02",
   "metadata": {},
   "outputs": [
    {
     "data": {
      "text/plain": [
       "9"
      ]
     },
     "execution_count": 15,
     "metadata": {},
     "output_type": "execute_result"
    }
   ],
   "source": [
    "list_of_df = pd.read_html (\"https://en.wikipedia.org/wiki/2016_Summer_Olympics_medal_table\",\n",
    "                           header=0)\n",
    "len(list_of_df)"
   ]
  },
  {
   "cell_type": "code",
   "execution_count": 17,
   "id": "89ec10ce-1396-48ff-ad0b-9d6a8f774001",
   "metadata": {},
   "outputs": [
    {
     "name": "stdout",
     "output_type": "stream",
     "text": [
      "(8, 3)\n",
      "(0, 3)\n",
      "(3, 1)\n",
      "(87, 6)\n",
      "(9, 8)\n",
      "(7, 5)\n",
      "(6, 2)\n",
      "(2, 2)\n",
      "(1, 2)\n"
     ]
    }
   ],
   "source": [
    "for t in list_of_df:\n",
    "    print(t.shape)"
   ]
  },
  {
   "cell_type": "code",
   "execution_count": 19,
   "id": "a8fc7713-445f-4753-984b-d5446f395a89",
   "metadata": {},
   "outputs": [
    {
     "data": {
      "text/html": [
       "<div>\n",
       "<style scoped>\n",
       "    .dataframe tbody tr th:only-of-type {\n",
       "        vertical-align: middle;\n",
       "    }\n",
       "\n",
       "    .dataframe tbody tr th {\n",
       "        vertical-align: top;\n",
       "    }\n",
       "\n",
       "    .dataframe thead th {\n",
       "        text-align: right;\n",
       "    }\n",
       "</style>\n",
       "<table border=\"1\" class=\"dataframe\">\n",
       "  <thead>\n",
       "    <tr style=\"text-align: right;\">\n",
       "      <th></th>\n",
       "      <th>Rank</th>\n",
       "      <th>NOC</th>\n",
       "      <th>Gold</th>\n",
       "      <th>Silver</th>\n",
       "      <th>Bronze</th>\n",
       "      <th>Total</th>\n",
       "    </tr>\n",
       "  </thead>\n",
       "  <tbody>\n",
       "    <tr>\n",
       "      <th>0</th>\n",
       "      <td>1</td>\n",
       "      <td>United States</td>\n",
       "      <td>46</td>\n",
       "      <td>37</td>\n",
       "      <td>38</td>\n",
       "      <td>121</td>\n",
       "    </tr>\n",
       "    <tr>\n",
       "      <th>1</th>\n",
       "      <td>2</td>\n",
       "      <td>Great Britain</td>\n",
       "      <td>27</td>\n",
       "      <td>23</td>\n",
       "      <td>17</td>\n",
       "      <td>67</td>\n",
       "    </tr>\n",
       "    <tr>\n",
       "      <th>2</th>\n",
       "      <td>3</td>\n",
       "      <td>China</td>\n",
       "      <td>26</td>\n",
       "      <td>18</td>\n",
       "      <td>26</td>\n",
       "      <td>70</td>\n",
       "    </tr>\n",
       "    <tr>\n",
       "      <th>3</th>\n",
       "      <td>4</td>\n",
       "      <td>Russia‡</td>\n",
       "      <td>19</td>\n",
       "      <td>17</td>\n",
       "      <td>20</td>\n",
       "      <td>56</td>\n",
       "    </tr>\n",
       "    <tr>\n",
       "      <th>4</th>\n",
       "      <td>5</td>\n",
       "      <td>Germany</td>\n",
       "      <td>17</td>\n",
       "      <td>10</td>\n",
       "      <td>15</td>\n",
       "      <td>42</td>\n",
       "    </tr>\n",
       "  </tbody>\n",
       "</table>\n",
       "</div>"
      ],
      "text/plain": [
       "  Rank            NOC  Gold  Silver  Bronze  Total\n",
       "0    1  United States    46      37      38    121\n",
       "1    2  Great Britain    27      23      17     67\n",
       "2    3          China    26      18      26     70\n",
       "3    4        Russia‡    19      17      20     56\n",
       "4    5        Germany    17      10      15     42"
      ]
     },
     "execution_count": 19,
     "metadata": {},
     "output_type": "execute_result"
    }
   ],
   "source": [
    "df15 = list_of_df[3]\n",
    "df15.head()"
   ]
  },
  {
   "cell_type": "code",
   "execution_count": 21,
   "id": "7f7c4825-7f01-4a41-9dda-397a95993b09",
   "metadata": {},
   "outputs": [
    {
     "data": {
      "text/html": [
       "<div>\n",
       "<style scoped>\n",
       "    .dataframe tbody tr th:only-of-type {\n",
       "        vertical-align: middle;\n",
       "    }\n",
       "\n",
       "    .dataframe tbody tr th {\n",
       "        vertical-align: top;\n",
       "    }\n",
       "\n",
       "    .dataframe thead th {\n",
       "        text-align: right;\n",
       "    }\n",
       "</style>\n",
       "<table border=\"1\" class=\"dataframe\">\n",
       "  <thead>\n",
       "    <tr style=\"text-align: right;\">\n",
       "      <th></th>\n",
       "      <th>title</th>\n",
       "      <th>year</th>\n",
       "      <th>cast</th>\n",
       "      <th>genres</th>\n",
       "    </tr>\n",
       "  </thead>\n",
       "  <tbody>\n",
       "    <tr>\n",
       "      <th>0</th>\n",
       "      <td>After Dark in Central Park</td>\n",
       "      <td>1900</td>\n",
       "      <td>[]</td>\n",
       "      <td>[]</td>\n",
       "    </tr>\n",
       "    <tr>\n",
       "      <th>1</th>\n",
       "      <td>Boarding School Girls' Pajama Parade</td>\n",
       "      <td>1900</td>\n",
       "      <td>[]</td>\n",
       "      <td>[]</td>\n",
       "    </tr>\n",
       "    <tr>\n",
       "      <th>2</th>\n",
       "      <td>Buffalo Bill's Wild West Parad</td>\n",
       "      <td>1900</td>\n",
       "      <td>[]</td>\n",
       "      <td>[]</td>\n",
       "    </tr>\n",
       "    <tr>\n",
       "      <th>3</th>\n",
       "      <td>Caught</td>\n",
       "      <td>1900</td>\n",
       "      <td>[]</td>\n",
       "      <td>[]</td>\n",
       "    </tr>\n",
       "    <tr>\n",
       "      <th>4</th>\n",
       "      <td>Clowns Spinning Hats</td>\n",
       "      <td>1900</td>\n",
       "      <td>[]</td>\n",
       "      <td>[]</td>\n",
       "    </tr>\n",
       "  </tbody>\n",
       "</table>\n",
       "</div>"
      ],
      "text/plain": [
       "                                  title  year cast genres\n",
       "0            After Dark in Central Park  1900   []     []\n",
       "1  Boarding School Girls' Pajama Parade  1900   []     []\n",
       "2        Buffalo Bill's Wild West Parad  1900   []     []\n",
       "3                                Caught  1900   []     []\n",
       "4                  Clowns Spinning Hats  1900   []     []"
      ]
     },
     "execution_count": 21,
     "metadata": {},
     "output_type": "execute_result"
    }
   ],
   "source": [
    "df16 = pd.read_json('movies.json')\n",
    "df16.head()"
   ]
  },
  {
   "cell_type": "code",
   "execution_count": 25,
   "id": "f7d2e04d-c3ab-4f0d-acdd-25fa71ee6d25",
   "metadata": {},
   "outputs": [
    {
     "name": "stdout",
     "output_type": "stream",
     "text": [
      "[['Robert Downey, Jr.', 'Chris Evans', 'Mark Ruffalo', 'Chris Hemsworth', 'Scarlett Johansson', 'Jeremy Renner', 'Tom Hiddleston', 'Clark Gregg', 'Cobie Smulders', 'Stellan Skarsgård', 'Samuel L. Jackson']]\n"
     ]
    }
   ],
   "source": [
    "cast_of_avengers = df16[(df16['title']=='The Avengers') &\n",
    "                         (df16['year']==2012)]['cast']\n",
    "print(list(cast_of_avengers))"
   ]
  },
  {
   "cell_type": "code",
   "execution_count": 41,
   "id": "4b643665-5aa6-4f4d-937d-4898b151d2d2",
   "metadata": {},
   "outputs": [
    {
     "name": "stderr",
     "output_type": "stream",
     "text": [
      "Failed to import jpype dependencies. Fallback to subprocess.\n",
      "No module named 'jpype'\n"
     ]
    },
    {
     "data": {
      "text/plain": [
       "[         0     1     2  3      4      5     6       7  8    9\n",
       " 0  0.17004  12.5  7.87  0  0.524  6.004  85.9  6.5921  5  311\n",
       " 1  0.22489  12.5  7.87  0  0.524  6.377  94.3  6.3467  5  311\n",
       " 2  0.11747  12.5  7.87  0  0.524  6.009  82.9  6.2267  5  311\n",
       " 3  0.09378  12.5  7.87  0  0.524  5.889  39.0  5.4509  5  311]"
      ]
     },
     "execution_count": 41,
     "metadata": {},
     "output_type": "execute_result"
    }
   ],
   "source": [
    "from tabula import read_pdf\n",
    "df18_1 = read_pdf('Housing_data.pdf', pages=[1],\n",
    "                pandas_options={'header':None})\n",
    "df18_1"
   ]
  },
  {
   "cell_type": "code",
   "execution_count": 47,
   "id": "7c8715ec-bdc4-4629-b592-244ae6b12fff",
   "metadata": {},
   "outputs": [
    {
     "data": {
      "text/plain": [
       "[      0       1      2     3\n",
       " 0  15.2  386.71  17.10  18.9\n",
       " 1  15.2  392.52  20.45  15.0\n",
       " 2  15.2  396.90  13.27  18.9\n",
       " 3  15.2  390.50  15.71  21.7]"
      ]
     },
     "execution_count": 47,
     "metadata": {},
     "output_type": "execute_result"
    }
   ],
   "source": [
    "df18_2 = read_pdf('Housing_data.pdf', pages=[2],\n",
    "                pandas_options={'header':None})\n",
    "df18_2"
   ]
  },
  {
   "cell_type": "code",
   "execution_count": 49,
   "id": "8719c6d1-a582-4280-b8c6-9a45935d9dbb",
   "metadata": {},
   "outputs": [
    {
     "name": "stdout",
     "output_type": "stream",
     "text": [
      "Requirement already satisfied: beautifulsoup4 in c:\\users\\emili\\anaconda3\\lib\\site-packages (4.12.2)\n",
      "Requirement already satisfied: soupsieve>1.2 in c:\\users\\emili\\anaconda3\\lib\\site-packages (from beautifulsoup4) (2.5)\n"
     ]
    }
   ],
   "source": [
    "!pip install beautifulsoup4"
   ]
  },
  {
   "cell_type": "code",
   "execution_count": 51,
   "id": "e5ad41d6-1854-4ae1-8732-097ed64231a6",
   "metadata": {},
   "outputs": [],
   "source": [
    "from bs4 import BeautifulSoup"
   ]
  },
  {
   "cell_type": "code",
   "execution_count": 55,
   "id": "8d395eae-c8be-4702-b848-8989cd53f749",
   "metadata": {},
   "outputs": [
    {
     "name": "stdout",
     "output_type": "stream",
     "text": [
      "<class 'bs4.BeautifulSoup'>\n"
     ]
    }
   ],
   "source": [
    "with open('test.html','r') as fd:\n",
    "    soup = BeautifulSoup(fd)\n",
    "    print(type(soup))"
   ]
  },
  {
   "cell_type": "code",
   "execution_count": 57,
   "id": "f743fe0e-45b1-4aec-9a23-7efe0c15d9e8",
   "metadata": {},
   "outputs": [
    {
     "name": "stdout",
     "output_type": "stream",
     "text": [
      "<html>\n",
      " <body>\n",
      "  <h1>\n",
      "   Lorem ipsum dolor sit amet consectetuer adipiscing \n",
      "elit\n",
      "  </h1>\n",
      "  <p>\n",
      "   Lorem ipsum dolor sit amet, consectetuer adipiscing \n",
      "elit. Aenean commodo ligula eget dolor. Aenean massa\n",
      "   <strong>\n",
      "    strong\n",
      "   </strong>\n",
      "   . Cum sociis natoque penatibus \n",
      "et magnis dis parturient montes, nascetur ridiculus \n",
      "mus. Donec quam felis, ultricies nec, pellentesque \n",
      "eu, pretium quis, sem. Nulla consequat massa quis \n",
      "enim. Donec pede justo, fringilla vel, aliquet nec, \n",
      "vulputate eget, arcu. In enim justo, rhoncus ut, \n",
      "imperdiet a, venenatis vitae, justo. Nullam dictum \n",
      "felis eu pede\n",
      "   <a class=\"external ext\" href=\"#\">\n",
      "    link\n",
      "   </a>\n",
      "   mollis pretium. Integer tincidunt. Cras dapibus. \n",
      "Vivamus elementum semper nisi. Aenean vulputate \n",
      "eleifend tellus. Aenean leo ligula, porttitor eu, \n",
      "consequat vitae, eleifend ac, enim. Aliquam lorem ante, \n",
      "dapibus in, viverra quis, feugiat a, tellus. Phasellus \n",
      "viverra nulla ut metus varius laoreet. Quisque rutrum. \n",
      "Aenean imperdiet. Etiam ultricies nisi vel augue. \n",
      "Curabitur ullamcorper ultricies nisi.\n",
      "  </p>\n",
      "  <h1>\n",
      "   Lorem ipsum dolor sit amet consectetuer adipiscing \n",
      "elit\n",
      "  </h1>\n",
      "  <h2>\n",
      "   Aenean commodo ligula eget dolor aenean massa\n",
      "  </h2>\n",
      "  <p>\n",
      "   Lorem ipsum dolor sit amet, consectetuer adipiscing \n",
      "elit. Aenean commodo ligula eget dolor. Aenean massa. \n",
      "Cum sociis natoque penatibus et magnis dis parturient \n",
      "montes, nascetur ridiculus mus. Donec quam felis, \n",
      "ultricies nec, pellentesque eu, pretium quis, sem.\n",
      "  </p>\n",
      "  <h2>\n",
      "   Aenean commodo ligula eget dolor aenean massa\n",
      "  </h2>\n",
      "  <p>\n",
      "   Lorem ipsum dolor sit amet, consectetuer adipiscing \n",
      "elit. Aenean commodo ligula eget dolor. Aenean massa. \n",
      "Cum sociis natoque penatibus et magnis dis parturient \n",
      "montes, nascetur ridiculus mus. Donec quam felis, \n",
      "ultricies nec, pellentesque eu, pretium quis, sem.\n",
      "  </p>\n",
      "  <ul>\n",
      "   <li>\n",
      "    <a href=\"https://en.wikipedia.org/wiki/Entropy_(information_theory)\">\n",
      "     Information Entropy\n",
      "    </a>\n",
      "   </li>\n",
      "   <li>\n",
      "    <a href=\"http://www.gutenberg.org/browse/scores/top\">\n",
      "     Top books in Gutenberg\n",
      "    </a>\n",
      "   </li>\n",
      "   <li>\n",
      "    <a href=\"https://www.imdb.com/chart/top\">\n",
      "     Top 250 movies in IMDB\n",
      "    </a>\n",
      "   </li>\n",
      "  </ul>\n",
      "  <p>\n",
      "   Lorem ipsum dolor sit amet, consectetuer adipiscing \n",
      "elit. Aenean commodo ligula eget dolor. Aenean massa. \n",
      "Cum sociis natoque penatibus et magnis dis parturient \n",
      "montes, nascetur ridiculus mus. Donec quam felis, \n",
      "ultricies nec, pellentesque eu, pretium quis, sem.\n",
      "  </p>\n",
      "  <form action=\"#\" method=\"post\">\n",
      "   <fieldset>\n",
      "    <label for=\"name\">\n",
      "     Name:\n",
      "    </label>\n",
      "    <input id=\"name\" placeholder=\"Enter your \n",
      "full name\" type=\"text\"/>\n",
      "    <label for=\"email\">\n",
      "     Email:\n",
      "    </label>\n",
      "    <input id=\"email\" placeholder=\"Enter \n",
      "your email address\" type=\"email\"/>\n",
      "    <label for=\"message\">\n",
      "     Message:\n",
      "    </label>\n",
      "    <textarea id=\"message\" placeholder=\"What's on your \n",
      "mind?\"></textarea>\n",
      "    <input type=\"submit\" value=\"Send message\"/>\n",
      "   </fieldset>\n",
      "  </form>\n",
      "  <p>\n",
      "   Lorem ipsum dolor sit amet, consectetuer adipiscing \n",
      "elit. Aenean commodo ligula eget dolor. Aenean massa. \n",
      "Cum sociis natoque penatibus et magnis dis parturient \n",
      "montes, nascetur ridiculus mus. Donec quam felis, \n",
      "ultricies nec, pellentesque eu, pretium quis, sem.\n",
      "  </p>\n",
      "  <table class=\"data\">\n",
      "   <tr>\n",
      "    <th>\n",
      "     Entry Header 1\n",
      "    </th>\n",
      "    <th>\n",
      "     Entry Header 2\n",
      "    </th>\n",
      "    <th>\n",
      "     Entry Header 3\n",
      "    </th>\n",
      "    <th>\n",
      "     Entry Header 4\n",
      "    </th>\n",
      "   </tr>\n",
      "   <tr>\n",
      "    <td>\n",
      "     Entry First Line 1\n",
      "    </td>\n",
      "    <td>\n",
      "     Entry First Line 2\n",
      "    </td>\n",
      "    <td>\n",
      "     Entry First Line 3\n",
      "    </td>\n",
      "    <td>\n",
      "     Entry First Line 4\n",
      "    </td>\n",
      "   </tr>\n",
      "   <tr>\n",
      "    <td>\n",
      "     Entry Line 1\n",
      "    </td>\n",
      "    <td>\n",
      "     Entry Line 2\n",
      "    </td>\n",
      "    <td>\n",
      "     Entry Line 3\n",
      "    </td>\n",
      "    <td>\n",
      "     Entry Line 4\n",
      "    </td>\n",
      "   </tr>\n",
      "   <tr>\n",
      "    <td>\n",
      "     Entry Last Line 1\n",
      "    </td>\n",
      "    <td>\n",
      "     Entry Last Line 2\n",
      "    </td>\n",
      "    <td>\n",
      "     Entry Last Line 3\n",
      "    </td>\n",
      "    <td>\n",
      "     Entry Last Line 4\n",
      "    </td>\n",
      "   </tr>\n",
      "  </table>\n",
      "  <p>\n",
      "   Lorem ipsum dolor sit amet, consectetuer adipiscing \n",
      "elit. Aenean commodo ligula eget dolor. Aenean massa. \n",
      "Cum sociis natoque penatibus et magnis dis parturient \n",
      "montes, nascetur ridiculus mus. Donec quam felis, \n",
      "ultricies nec, pellentesque eu, pretium quis, sem.\n",
      "  </p>\n",
      " </body>\n",
      "</html>\n",
      "\n"
     ]
    }
   ],
   "source": [
    "print(soup.prettify())"
   ]
  },
  {
   "cell_type": "code",
   "execution_count": 59,
   "id": "f59be7d7-fa85-469e-bc80-00ec4b3a2e6c",
   "metadata": {},
   "outputs": [
    {
     "name": "stdout",
     "output_type": "stream",
     "text": [
      "<p>Lorem ipsum dolor sit amet, consectetuer adipiscing \n",
      "elit. Aenean commodo ligula eget dolor. Aenean massa \n",
      "<strong>strong</strong>. Cum sociis natoque penatibus \n",
      "et magnis dis parturient montes, nascetur ridiculus \n",
      "mus. Donec quam felis, ultricies nec, pellentesque \n",
      "eu, pretium quis, sem. Nulla consequat massa quis \n",
      "enim. Donec pede justo, fringilla vel, aliquet nec, \n",
      "vulputate eget, arcu. In enim justo, rhoncus ut, \n",
      "imperdiet a, venenatis vitae, justo. Nullam dictum \n",
      "felis eu pede <a class=\"external ext\" href=\"#\">link</a> \n",
      "mollis pretium. Integer tincidunt. Cras dapibus. \n",
      "Vivamus elementum semper nisi. Aenean vulputate \n",
      "eleifend tellus. Aenean leo ligula, porttitor eu, \n",
      "consequat vitae, eleifend ac, enim. Aliquam lorem ante, \n",
      "dapibus in, viverra quis, feugiat a, tellus. Phasellus \n",
      "viverra nulla ut metus varius laoreet. Quisque rutrum. \n",
      "Aenean imperdiet. Etiam ultricies nisi vel augue. \n",
      "Curabitur ullamcorper ultricies nisi.</p>\n"
     ]
    }
   ],
   "source": [
    "print(soup.p)"
   ]
  },
  {
   "cell_type": "code",
   "execution_count": 61,
   "id": "98169d42-ef58-4c45-b322-00ed656599e3",
   "metadata": {},
   "outputs": [
    {
     "name": "stdout",
     "output_type": "stream",
     "text": [
      "total number of <p> --- 6\n"
     ]
    }
   ],
   "source": [
    "all_ps = soup.find_all('p')\n",
    "print('total number of <p> --- {}'.format(len(all_ps)))"
   ]
  },
  {
   "cell_type": "code",
   "execution_count": 63,
   "id": "422dd46a-941e-439f-bb3c-46f0cc85e31f",
   "metadata": {},
   "outputs": [
    {
     "name": "stdout",
     "output_type": "stream",
     "text": [
      "['\\n', <tr>\n",
      "<th>Entry Header 1</th>\n",
      "<th>Entry Header 2</th>\n",
      "<th>Entry Header 3</th>\n",
      "<th>Entry Header 4</th>\n",
      "</tr>, '\\n', <tr>\n",
      "<td>Entry First Line 1</td>\n",
      "<td>Entry First Line 2</td>\n",
      "<td>Entry First Line 3</td>\n",
      "<td>Entry First Line 4</td>\n",
      "</tr>, '\\n', <tr>\n",
      "<td>Entry Line 1</td>\n",
      "<td>Entry Line 2</td>\n",
      "<td>Entry Line 3</td>\n",
      "<td>Entry Line 4</td>\n",
      "</tr>, '\\n', <tr>\n",
      "<td>Entry Last Line 1</td>\n",
      "<td>Entry Last Line 2</td>\n",
      "<td>Entry Last Line 3</td>\n",
      "<td>Entry Last Line 4</td>\n",
      "</tr>, '\\n']\n"
     ]
    }
   ],
   "source": [
    "table = soup.table\n",
    "print(table.contents)"
   ]
  },
  {
   "cell_type": "code",
   "execution_count": 65,
   "id": "1a5bd474-aca6-4354-a322-bb5401e654c7",
   "metadata": {},
   "outputs": [
    {
     "name": "stdout",
     "output_type": "stream",
     "text": [
      "\n",
      "\n",
      "*****\n",
      "<tr>\n",
      "<th>Entry Header 1</th>\n",
      "<th>Entry Header 2</th>\n",
      "<th>Entry Header 3</th>\n",
      "<th>Entry Header 4</th>\n",
      "</tr>\n",
      "*****\n",
      "\n",
      "\n",
      "*****\n",
      "<tr>\n",
      "<td>Entry First Line 1</td>\n",
      "<td>Entry First Line 2</td>\n",
      "<td>Entry First Line 3</td>\n",
      "<td>Entry First Line 4</td>\n",
      "</tr>\n",
      "*****\n",
      "\n",
      "\n",
      "*****\n",
      "<tr>\n",
      "<td>Entry Line 1</td>\n",
      "<td>Entry Line 2</td>\n",
      "<td>Entry Line 3</td>\n",
      "<td>Entry Line 4</td>\n",
      "</tr>\n",
      "*****\n",
      "\n",
      "\n",
      "*****\n",
      "<tr>\n",
      "<td>Entry Last Line 1</td>\n",
      "<td>Entry Last Line 2</td>\n",
      "<td>Entry Last Line 3</td>\n",
      "<td>Entry Last Line 4</td>\n",
      "</tr>\n",
      "*****\n",
      "\n",
      "\n",
      "*****\n"
     ]
    }
   ],
   "source": [
    "for child in table.children:\n",
    "    print(child)\n",
    "    print('*****')"
   ]
  },
  {
   "cell_type": "code",
   "execution_count": 67,
   "id": "fbd72236-285f-4185-9a99-0632d9b4a3a5",
   "metadata": {},
   "outputs": [
    {
     "name": "stdout",
     "output_type": "stream",
     "text": [
      "9 61\n"
     ]
    }
   ],
   "source": [
    "children = table.children\n",
    "des = table.descendants\n",
    "print(len(list(children)), len(list(des)))"
   ]
  },
  {
   "cell_type": "code",
   "execution_count": 69,
   "id": "2a38f85d-5e58-422b-9882-8647b402a673",
   "metadata": {},
   "outputs": [
    {
     "name": "stdout",
     "output_type": "stream",
     "text": [
      "data is a <class 'bs4.element.ResultSet'> and 4 items long\n"
     ]
    }
   ],
   "source": [
    "data = soup.findAll('tr')\n",
    "print('data is a {} and {} items long'.format(type(data),len(data)))"
   ]
  },
  {
   "cell_type": "code",
   "execution_count": 71,
   "id": "f54fc80e-5994-4610-9fd9-5b31bea380f6",
   "metadata": {},
   "outputs": [
    {
     "name": "stdout",
     "output_type": "stream",
     "text": [
      "Requirement already satisfied: openpyxl in c:\\users\\emili\\anaconda3\\lib\\site-packages (3.0.10)\n",
      "Requirement already satisfied: et_xmlfile in c:\\users\\emili\\anaconda3\\lib\\site-packages (from openpyxl) (1.1.0)\n"
     ]
    }
   ],
   "source": [
    "!pip install openpyxl"
   ]
  },
  {
   "cell_type": "code",
   "execution_count": 73,
   "id": "d0000e69-1200-4528-a201-b2ecb01c56db",
   "metadata": {},
   "outputs": [
    {
     "ename": "NameError",
     "evalue": "name 'df' is not defined",
     "output_type": "error",
     "traceback": [
      "\u001b[1;31m---------------------------------------------------------------------------\u001b[0m",
      "\u001b[1;31mNameError\u001b[0m                                 Traceback (most recent call last)",
      "Cell \u001b[1;32mIn[73], line 2\u001b[0m\n\u001b[0;32m      1\u001b[0m writer \u001b[38;5;241m=\u001b[39m pd\u001b[38;5;241m.\u001b[39mExcelWriter(\u001b[38;5;124m'\u001b[39m\u001b[38;5;124mtest_output.xlsx\u001b[39m\u001b[38;5;124m'\u001b[39m)\n\u001b[1;32m----> 2\u001b[0m df\u001b[38;5;241m.\u001b[39mto_excel(writer, \u001b[38;5;124m'\u001b[39m\u001b[38;5;124mSheet1\u001b[39m\u001b[38;5;124m'\u001b[39m)\n\u001b[0;32m      3\u001b[0m writer\u001b[38;5;241m.\u001b[39msave()\n\u001b[0;32m      4\u001b[0m writer\n",
      "\u001b[1;31mNameError\u001b[0m: name 'df' is not defined"
     ]
    }
   ],
   "source": [
    "writer = pd.ExcelWriter('test_output.xlsx')\n",
    "df.to_excel(writer, 'Sheet1')\n",
    "writer.save()\n",
    "writer"
   ]
  },
  {
   "cell_type": "code",
   "execution_count": null,
   "id": "10c66828-8bf1-4e65-9f8c-a4ca4be2a6c0",
   "metadata": {},
   "outputs": [],
   "source": []
  },
  {
   "cell_type": "code",
   "execution_count": null,
   "id": "eed65a4e-7b7f-4d90-b1c9-97adb14d4b8b",
   "metadata": {},
   "outputs": [],
   "source": []
  },
  {
   "cell_type": "code",
   "execution_count": null,
   "id": "9475f55c-52c7-450f-9811-6afdd6c587ed",
   "metadata": {},
   "outputs": [],
   "source": []
  },
  {
   "cell_type": "code",
   "execution_count": null,
   "id": "35e18088-0800-48e3-850d-4a7ec001728f",
   "metadata": {},
   "outputs": [],
   "source": []
  }
 ],
 "metadata": {
  "kernelspec": {
   "display_name": "Python 3 (ipykernel)",
   "language": "python",
   "name": "python3"
  },
  "language_info": {
   "codemirror_mode": {
    "name": "ipython",
    "version": 3
   },
   "file_extension": ".py",
   "mimetype": "text/x-python",
   "name": "python",
   "nbconvert_exporter": "python",
   "pygments_lexer": "ipython3",
   "version": "3.11.7"
  }
 },
 "nbformat": 4,
 "nbformat_minor": 5
}
