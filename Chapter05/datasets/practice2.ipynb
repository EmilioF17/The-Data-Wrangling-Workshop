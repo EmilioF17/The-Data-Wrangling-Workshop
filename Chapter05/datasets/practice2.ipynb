{
 "cells": [
  {
   "cell_type": "code",
   "execution_count": 3,
   "id": "c17b02b4-36de-48b9-9e35-7dd41a94c94f",
   "metadata": {},
   "outputs": [],
   "source": [
    "import pandas as pd"
   ]
  },
  {
   "cell_type": "code",
   "execution_count": 5,
   "id": "95bff10f-095c-44b6-95b4-fdb105a34139",
   "metadata": {},
   "outputs": [],
   "source": [
    "list_of_dataframe = []"
   ]
  },
  {
   "cell_type": "code",
   "execution_count": 7,
   "id": "b2101298-43e7-4a30-960a-aedb7c3e8224",
   "metadata": {},
   "outputs": [],
   "source": [
    "rows_in_a_chunk = 10"
   ]
  },
  {
   "cell_type": "code",
   "execution_count": 9,
   "id": "aa87d169-daaa-430d-ad7f-bd788fb4e191",
   "metadata": {},
   "outputs": [],
   "source": [
    "num_chunks = 5"
   ]
  },
  {
   "cell_type": "code",
   "execution_count": 11,
   "id": "faa3699b-8880-423b-bcd6-ad3f84189c74",
   "metadata": {},
   "outputs": [],
   "source": [
    "df_dummy = pd.read_csv('Boston_housing.csv',nrows=2)\n",
    "colnames = df_dummy.columns"
   ]
  },
  {
   "cell_type": "code",
   "execution_count": 15,
   "id": "cd3bb3b2-b1d2-4392-bb39-196e3297b6eb",
   "metadata": {},
   "outputs": [],
   "source": [
    "for i in range(0,num_chunks*rows_in_a_chunk,rows_in_a_chunk):\n",
    "    df = pd.read_csv('Boston_housing.csv', header=0,\n",
    "                     skiprows=i, nrows=rows_in_a_chunk,\n",
    "                     names=colnames)\n",
    "    list_of_dataframe.append(df)"
   ]
  },
  {
   "cell_type": "code",
   "execution_count": 21,
   "id": "7179491d-8001-435d-abd0-8623f14b175a",
   "metadata": {},
   "outputs": [
    {
     "data": {
      "text/html": [
       "<div>\n",
       "<style scoped>\n",
       "    .dataframe tbody tr th:only-of-type {\n",
       "        vertical-align: middle;\n",
       "    }\n",
       "\n",
       "    .dataframe tbody tr th {\n",
       "        vertical-align: top;\n",
       "    }\n",
       "\n",
       "    .dataframe thead th {\n",
       "        text-align: right;\n",
       "    }\n",
       "</style>\n",
       "<table border=\"1\" class=\"dataframe\">\n",
       "  <thead>\n",
       "    <tr style=\"text-align: right;\">\n",
       "      <th></th>\n",
       "      <th>Bedroom</th>\n",
       "      <th>Sq. foot</th>\n",
       "      <th>Locality</th>\n",
       "      <th>Price ($)</th>\n",
       "    </tr>\n",
       "  </thead>\n",
       "  <tbody>\n",
       "    <tr>\n",
       "      <th>0</th>\n",
       "      <td>2.0</td>\n",
       "      <td>1500.0</td>\n",
       "      <td>Good</td>\n",
       "      <td>300000.0</td>\n",
       "    </tr>\n",
       "    <tr>\n",
       "      <th>1</th>\n",
       "      <td>3.0</td>\n",
       "      <td>1300.0</td>\n",
       "      <td>Fair</td>\n",
       "      <td>240000.0</td>\n",
       "    </tr>\n",
       "    <tr>\n",
       "      <th>2</th>\n",
       "      <td>NaN</td>\n",
       "      <td>NaN</td>\n",
       "      <td>NaN</td>\n",
       "      <td>NaN</td>\n",
       "    </tr>\n",
       "    <tr>\n",
       "      <th>3</th>\n",
       "      <td>3.0</td>\n",
       "      <td>1900.0</td>\n",
       "      <td>Very good</td>\n",
       "      <td>450000.0</td>\n",
       "    </tr>\n",
       "    <tr>\n",
       "      <th>4</th>\n",
       "      <td>3.0</td>\n",
       "      <td>1850.0</td>\n",
       "      <td>Bad</td>\n",
       "      <td>280000.0</td>\n",
       "    </tr>\n",
       "    <tr>\n",
       "      <th>5</th>\n",
       "      <td>NaN</td>\n",
       "      <td>NaN</td>\n",
       "      <td>NaN</td>\n",
       "      <td>NaN</td>\n",
       "    </tr>\n",
       "    <tr>\n",
       "      <th>6</th>\n",
       "      <td>2.0</td>\n",
       "      <td>1640.0</td>\n",
       "      <td>Good</td>\n",
       "      <td>310000.0</td>\n",
       "    </tr>\n",
       "  </tbody>\n",
       "</table>\n",
       "</div>"
      ],
      "text/plain": [
       "   Bedroom   Sq. foot    Locality   Price ($)\n",
       "0      2.0     1500.0        Good    300000.0\n",
       "1      3.0     1300.0        Fair    240000.0\n",
       "2      NaN        NaN         NaN         NaN\n",
       "3      3.0     1900.0   Very good    450000.0\n",
       "4      3.0     1850.0         Bad    280000.0\n",
       "5      NaN        NaN         NaN         NaN\n",
       "6      2.0     1640.0        Good    310000.0"
      ]
     },
     "execution_count": 21,
     "metadata": {},
     "output_type": "execute_result"
    }
   ],
   "source": [
    "df9 = pd.read_csv('CSV_EX_blankline.csv',skip_blank_lines=False)\n",
    "df9"
   ]
  },
  {
   "cell_type": "code",
   "execution_count": null,
   "id": "198cb5fa-f18a-4df9-8712-28ce117d1119",
   "metadata": {},
   "outputs": [],
   "source": []
  },
  {
   "cell_type": "code",
   "execution_count": null,
   "id": "ed6aeddc-01dd-4e2d-b810-748735352777",
   "metadata": {},
   "outputs": [],
   "source": []
  }
 ],
 "metadata": {
  "kernelspec": {
   "display_name": "Python 3 (ipykernel)",
   "language": "python",
   "name": "python3"
  },
  "language_info": {
   "codemirror_mode": {
    "name": "ipython",
    "version": 3
   },
   "file_extension": ".py",
   "mimetype": "text/x-python",
   "name": "python",
   "nbconvert_exporter": "python",
   "pygments_lexer": "ipython3",
   "version": "3.11.7"
  }
 },
 "nbformat": 4,
 "nbformat_minor": 5
}
